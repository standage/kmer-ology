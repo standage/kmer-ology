{
 "cells": [
  {
   "cell_type": "markdown",
   "id": "fa463864-6122-4c2d-8f25-d090a814a127",
   "metadata": {},
   "source": [
    "# *K*-mer-ology\n",
    "\n",
    "In this notebook, we'll be taking a look at *k*-mers, minimizers, and similar subsequences used commonly for sequence analysis in bioinformatics. This first bit of code is provided for convenience for printing sequences and their constituent *k*-mers."
   ]
  },
  {
   "cell_type": "code",
   "execution_count": null,
   "id": "ef02d5f0-1e9b-4193-b921-7d389ba1b331",
   "metadata": {},
   "outputs": [],
   "source": [
    "def print_seq_with_kmers(sequence, k_size):\n",
    "    print(\"seq:\", sequence)\n",
    "    print(\"-----\" + \"-\" * len(sequence))\n",
    "    for n, kmer in get_sub_mers(sequence, k_size):\n",
    "        print(f\"{n:3d}: {' '*n}{kmer}\")"
   ]
  },
  {
   "cell_type": "code",
   "execution_count": null,
   "id": "7f88ec30-2b36-4149-b2ef-7a5b48272272",
   "metadata": {},
   "outputs": [],
   "source": [
    "def print_seq_with_minimizers(sequence, k_size, window_size):\n",
    "    print(\"seq:\", sequence)\n",
    "    print(\"-----\" + \"-\" * len(sequence))\n",
    "    for i, minimizer, offset in get_minimizers(sequence, k_size, window_size):\n",
    "        minimizer_string = (\".\" * offset) + minimizer + (\".\" * (window_size - 1 - offset))\n",
    "        print(f\"{i:3d}: {' '*i}{minimizer_string}\")"
   ]
  },
  {
   "cell_type": "code",
   "execution_count": null,
   "id": "a453149a-e90b-474c-a98e-c6d0358fb02d",
   "metadata": {},
   "outputs": [],
   "source": [
    "def print_seq_with_spaced_seed(sequence, mask):\n",
    "    print(\"seq:\", sequence)\n",
    "    print(\"-----\" + \"-\" * len(sequence))\n",
    "    for i, seed in get_spaced_seed(sequence, mask):\n",
    "        print(f\"{i:3d}: {' '*i}{seed}\")"
   ]
  },
  {
   "cell_type": "code",
   "execution_count": null,
   "id": "b554eff0-8766-45af-9e56-e9d0533e48ba",
   "metadata": {},
   "outputs": [],
   "source": [
    "def print_seq_with_min_strobes(sequence, k_size, window_size):\n",
    "    print(\"seq:\", sequence)\n",
    "    print(\"-----\" + \"-\" * len(sequence))\n",
    "    for i, anchor, j, minstrobe in get_min_strobes(sequence, k_size, window_size):\n",
    "        strobemer = anchor + (\".\" * j) + minstrobe + (\".\" * (window_size - j - k_size))\n",
    "        print(f\"{i:3d}: {' '*i}{strobemer}\")"
   ]
  },
  {
   "cell_type": "code",
   "execution_count": null,
   "id": "626be1a4-8b14-4f9c-a0c0-4bb82b94a02b",
   "metadata": {},
   "outputs": [],
   "source": [
    "shortdna = \"GATTACA\"\n",
    "meddna = \"TATTCGGCGAGACTT\"\n",
    "longdna = \"ATATTCGGCGAGACTTGCACACGAGGCGTCGCAGATGCATCGGATCCCGA\""
   ]
  },
  {
   "cell_type": "markdown",
   "id": "de37738b-a8a7-4cf1-ac6e-2cadca60c377",
   "metadata": {},
   "source": [
    "## *K*-mers\n",
    "\n",
    "Fill in the following function to yield every consecutive subsequence of length `sublength`, along with its position (0-based) in the sequence. Normally we would call `sublength` here `k`, but once we've implemented this function it can also be used to generate minimizer windows and other subsequences. So we'll just use the generic term \"sub-mer\" to refer to *k*-mers, windows, and other subsequences."
   ]
  },
  {
   "cell_type": "code",
   "execution_count": null,
   "id": "52697509-4a19-4e78-80f3-1d75715e36f0",
   "metadata": {},
   "outputs": [],
   "source": [
    "def get_sub_mers(sequence, sublength):\n",
    "    \"\"\"yield i, submer\"\"\""
   ]
  },
  {
   "cell_type": "markdown",
   "id": "9e6cbd2a-8d9a-41e9-88bb-12d1e2c57040",
   "metadata": {},
   "source": [
    "Execute the following cells to make sure *k*-mers are computed correctly"
   ]
  },
  {
   "cell_type": "code",
   "execution_count": null,
   "id": "65b0eaea-5f7b-40ff-8e67-e6c3dc55ddfb",
   "metadata": {},
   "outputs": [],
   "source": [
    "print_seq_with_kmers(shortdna, 5)"
   ]
  },
  {
   "cell_type": "code",
   "execution_count": null,
   "id": "1b753f6d-c4f0-4ca5-b361-3093b36bf47f",
   "metadata": {},
   "outputs": [],
   "source": [
    "print_seq_with_kmers(meddna, 5)"
   ]
  },
  {
   "cell_type": "code",
   "execution_count": null,
   "id": "2ba5e2c6-f95c-4f4b-8f13-4fd4a3f655e8",
   "metadata": {},
   "outputs": [],
   "source": [
    "print_seq_with_kmers(longdna, 31)"
   ]
  },
  {
   "cell_type": "markdown",
   "id": "d008fb58-4b7d-4537-b412-77d898ea0889",
   "metadata": {},
   "source": [
    "## Minimizers\n",
    "\n",
    "Minimizers are a special class of *k*-mer. Given a window of `w` consecutive *k*-mers, the minimizer is the \"smallest\" or \"lowest\" *k*-mer in the window. Fill in the function to yield each window, its position (0-based) in the sequence, and the offset of the minimizer within the window.\n",
    "\n",
    "> *Hint: you can use `get_sub_mers()` to generate both the windows and the k-mers within the windows.*"
   ]
  },
  {
   "cell_type": "code",
   "execution_count": null,
   "id": "edf05172-bb7e-4525-b317-85111193914e",
   "metadata": {},
   "outputs": [],
   "source": [
    "def get_minimizers(sequence, k_size, window_size):\n",
    "    \"\"\"yield i, minimizer, offset\"\"\""
   ]
  },
  {
   "cell_type": "markdown",
   "id": "050ff11d-1616-4a9b-afb2-f6677e47ead2",
   "metadata": {},
   "source": [
    "As before, execute the following cells to check your implementation. Make sure to note the number of distinct *k*-mers in the sequence versus the number of distinct minimizers. Recall that minimizers were originally designed to permit sequence matching in less space for very large data sets."
   ]
  },
  {
   "cell_type": "code",
   "execution_count": null,
   "id": "0f0df04a-52e9-47cd-8345-428db65437ca",
   "metadata": {},
   "outputs": [],
   "source": [
    "print_seq_with_kmers(meddna, 6)"
   ]
  },
  {
   "cell_type": "code",
   "execution_count": null,
   "id": "6b107f2e-49a4-4fe8-b91d-c2941537e909",
   "metadata": {},
   "outputs": [],
   "source": [
    "print_seq_with_minimizers(meddna, 3, 4)"
   ]
  },
  {
   "cell_type": "code",
   "execution_count": null,
   "id": "33dfcd07-39f6-488b-87b8-cfd1ba37ff7e",
   "metadata": {},
   "outputs": [],
   "source": [
    "print_seq_with_kmers(meddna, 11)"
   ]
  },
  {
   "cell_type": "code",
   "execution_count": null,
   "id": "bcb34aaa-df85-4504-a343-0638c8c3f5ab",
   "metadata": {},
   "outputs": [],
   "source": [
    "print_seq_with_minimizers(meddna, 5, 7)"
   ]
  },
  {
   "cell_type": "code",
   "execution_count": null,
   "id": "cc9dbc5e-391b-463b-a052-2d42e6616d15",
   "metadata": {},
   "outputs": [],
   "source": [
    "print_seq_with_minimizers(longdna, 15, 13)"
   ]
  },
  {
   "cell_type": "markdown",
   "id": "9a066733-92d1-463b-a97e-86e12ad19994",
   "metadata": {},
   "source": [
    "## Spaced seeds\n",
    "\n",
    "Spaced seeds are *k*-mers with ignored \"joker\" positions in fixed locations in the *k*-mer. The *weight* of the seed is the number of matching positions in the pattern, and the span is the total number of matching and ignored positions.\n",
    "\n",
    "Fill in the following function to yield each seed sequence, including the full span of matching and ignored positions. For matching positions, show the sequence character; for joker positions, show a `.` character. As with previous functions, also yield the position (0-based) of the seed in the sequence.\n",
    "\n",
    "Note that when using spaced seeds for sequence matching, substitutions (such as mutations or sequencing errors) in any of the joker (`.`) positions will not cause the seed match to fail; that is, the seed is robust so such variations."
   ]
  },
  {
   "cell_type": "code",
   "execution_count": null,
   "id": "04f41f5f-2269-48bc-92c6-7420cdaa8bf0",
   "metadata": {},
   "outputs": [],
   "source": [
    "def get_spaced_seed(sequence, mask):\n",
    "    \"\"\"yield i, seed\"\"\""
   ]
  },
  {
   "cell_type": "code",
   "execution_count": null,
   "id": "20247d1e-33e3-415a-8e9f-c910cd5952ea",
   "metadata": {},
   "outputs": [],
   "source": [
    "print_seq_with_spaced_seed(shortdna, \"##-#\")"
   ]
  },
  {
   "cell_type": "code",
   "execution_count": null,
   "id": "86ea9aa3-2539-4710-89d4-1bd14dfe9737",
   "metadata": {},
   "outputs": [],
   "source": [
    "print_seq_with_spaced_seed(meddna, \"###-###-#\")"
   ]
  },
  {
   "cell_type": "code",
   "execution_count": null,
   "id": "e57077fa-d648-4c7b-a7be-71dab33805d5",
   "metadata": {},
   "outputs": [],
   "source": [
    "print_seq_with_spaced_seed(longdna, \"######-###-#-#######---##\")"
   ]
  },
  {
   "cell_type": "markdown",
   "id": "cbf72394-b3b7-4948-839e-d40f9d359c20",
   "metadata": {},
   "source": [
    "## Strobemers (minstrobes)\n",
    "\n",
    "Strobemers are coupled *k*-mers composed of a fixed *k*-mer anchor and one or more additional \"randomly\" distributed \"strobe\" *k*-mers. Minstrobes use the minimizer strategy to introduce variation into the spacing between the *k*-mers in the strobemer. Randstrobes (not shown here) use a random hash function for even more variation. In both cases, strobemers are intended to take advantage of the matching/non-matching positions benefits first introduced with spaced seeds, but without a fixed matching/non-matching structure. The authors of the strobemer approach have demonstrated modest improvements in sequence alignment accuracy and performance using strobemers as seeds.\n",
    "\n",
    "For now, we will focus on the simplest case: minstrobes with a single anchor *k*-mer followed by a single minimizer. For this we need to specify the length of the *k*-mer and the length of the subsequent window from which the minimizer will be derived.\n",
    "\n",
    "Fill in the following function so that for each strobemer, it yields the position, anchor *k*-mer sequence, the minstrobe, and the offset of the minstrobe within its window.\n",
    "\n",
    "Note that, as with spaced seeds, strobemers are robust to variation present in the regions marked by `.` characters. Note that the spacing between the anchor and strobe isn't fixed. Note the step-wise behavior of the strobe that mimics the behavior we saw previously with minimizers. The use of randstrobes (not shown here) is intended to introduce additional variation in the spacing of the strobes."
   ]
  },
  {
   "cell_type": "code",
   "execution_count": null,
   "id": "0da10718-64bf-4ac3-8117-5ca3ccf5bfae",
   "metadata": {},
   "outputs": [],
   "source": [
    "def get_min_strobes(sequence, k_size, window_size):\n",
    "    \"\"\"yield i, anchor, j, minstrobe\"\"\""
   ]
  },
  {
   "cell_type": "code",
   "execution_count": null,
   "id": "e8219c66-32ab-4edf-9b75-6aaccc4977e2",
   "metadata": {},
   "outputs": [],
   "source": [
    "print_seq_with_min_strobes(meddna, 3, 6)"
   ]
  },
  {
   "cell_type": "code",
   "execution_count": null,
   "id": "2da778ed-990b-4603-841c-79b9e0514e1c",
   "metadata": {},
   "outputs": [],
   "source": [
    "print_seq_with_min_strobes(longdna, 9, 15)"
   ]
  }
 ],
 "metadata": {
  "kernelspec": {
   "display_name": "Python 3 (ipykernel)",
   "language": "python",
   "name": "python3"
  },
  "language_info": {
   "codemirror_mode": {
    "name": "ipython",
    "version": 3
   },
   "file_extension": ".py",
   "mimetype": "text/x-python",
   "name": "python",
   "nbconvert_exporter": "python",
   "pygments_lexer": "ipython3",
   "version": "3.10.6"
  }
 },
 "nbformat": 4,
 "nbformat_minor": 5
}

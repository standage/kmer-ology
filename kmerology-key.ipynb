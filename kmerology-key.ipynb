{
 "cells": [
  {
   "cell_type": "markdown",
   "id": "fa463864-6122-4c2d-8f25-d090a814a127",
   "metadata": {},
   "source": [
    "# *K*-mer-ology\n",
    "\n",
    "In this notebook, we'll be taking a look at *k*-mers, minimizers, and similar subsequences used commonly for sequence analysis in bioinformatics. This first bit of code is provided for convenience for printing sequences and their constituent *k*-mers."
   ]
  },
  {
   "cell_type": "code",
   "execution_count": 1,
   "id": "ef02d5f0-1e9b-4193-b921-7d389ba1b331",
   "metadata": {},
   "outputs": [],
   "source": [
    "def print_seq_with_kmers(sequence, k_size):\n",
    "    print(\"seq:\", sequence)\n",
    "    print(\"-----\" + \"-\" * len(sequence))\n",
    "    for n, kmer in get_sub_mers(sequence, k_size):\n",
    "        print(f\"{n:3d}: {' '*n}{kmer}\")"
   ]
  },
  {
   "cell_type": "code",
   "execution_count": 2,
   "id": "7f88ec30-2b36-4149-b2ef-7a5b48272272",
   "metadata": {},
   "outputs": [],
   "source": [
    "def print_seq_with_minimizers(sequence, k_size, window_size):\n",
    "    print(\"seq:\", sequence)\n",
    "    print(\"-----\" + \"-\" * len(sequence))\n",
    "    for i, minimizer, offset in get_minimizers(sequence, k_size, window_size):\n",
    "        minimizer_string = (\".\" * offset) + minimizer + (\".\" * (window_size - 1 - offset))\n",
    "        print(f\"{i:3d}: {' '*i}{minimizer_string}\")"
   ]
  },
  {
   "cell_type": "code",
   "execution_count": 3,
   "id": "a453149a-e90b-474c-a98e-c6d0358fb02d",
   "metadata": {},
   "outputs": [],
   "source": [
    "def print_seq_with_spaced_seed(sequence, mask):\n",
    "    print(\"seq:\", sequence)\n",
    "    print(\"-----\" + \"-\" * len(sequence))\n",
    "    for i, seed in get_spaced_seed(sequence, mask):\n",
    "        print(f\"{i:3d}: {' '*i}{seed}\")"
   ]
  },
  {
   "cell_type": "code",
   "execution_count": 4,
   "id": "b554eff0-8766-45af-9e56-e9d0533e48ba",
   "metadata": {},
   "outputs": [],
   "source": [
    "def print_seq_with_min_strobes(sequence, k_size, window_size):\n",
    "    print(\"seq:\", sequence)\n",
    "    print(\"-----\" + \"-\" * len(sequence))\n",
    "    for i, anchor, j, minstrobe in get_min_strobes(sequence, k_size, window_size):\n",
    "        strobemer = anchor + (\".\" * j) + minstrobe + (\".\" * (window_size - j - k_size))\n",
    "        print(f\"{i:3d}: {' '*i}{strobemer}\")"
   ]
  },
  {
   "cell_type": "code",
   "execution_count": 5,
   "id": "626be1a4-8b14-4f9c-a0c0-4bb82b94a02b",
   "metadata": {},
   "outputs": [],
   "source": [
    "shortdna = \"GATTACA\"\n",
    "meddna = \"TATTCGGCGAGACTT\"\n",
    "longdna = \"ATATTCGGCGAGACTTGCACACGAGGCGTCGCAGATGCATCGGATCCCGA\""
   ]
  },
  {
   "cell_type": "markdown",
   "id": "de37738b-a8a7-4cf1-ac6e-2cadca60c377",
   "metadata": {},
   "source": [
    "## *K*-mers\n",
    "\n",
    "Fill in the following function to yield every consecutive subsequence of length `sublength`, along with its position (0-based) in the sequence. Normally we would call `sublength` here `k`, but once we've implemented this function it can also be used to generate minimizer windows and other subsequences. So we'll just use the generic term \"sub-mer\" to refer to *k*-mers, windows, and other subsequences."
   ]
  },
  {
   "cell_type": "code",
   "execution_count": 6,
   "id": "52697509-4a19-4e78-80f3-1d75715e36f0",
   "metadata": {},
   "outputs": [],
   "source": [
    "def get_sub_mers(sequence, sublength):\n",
    "    \"\"\"yield i, submer\"\"\"\n",
    "    num_submers = len(sequence) - sublength + 1\n",
    "    for i in range(num_submers):\n",
    "        submer = sequence[i:i+sublength]\n",
    "        yield i, submer"
   ]
  },
  {
   "cell_type": "markdown",
   "id": "9e6cbd2a-8d9a-41e9-88bb-12d1e2c57040",
   "metadata": {},
   "source": [
    "Execute the following cells to make sure *k*-mers are computed correctly"
   ]
  },
  {
   "cell_type": "code",
   "execution_count": 7,
   "id": "65b0eaea-5f7b-40ff-8e67-e6c3dc55ddfb",
   "metadata": {},
   "outputs": [
    {
     "name": "stdout",
     "output_type": "stream",
     "text": [
      "seq: GATTACA\n",
      "------------\n",
      "  0: GATTA\n",
      "  1:  ATTAC\n",
      "  2:   TTACA\n"
     ]
    }
   ],
   "source": [
    "print_seq_with_kmers(shortdna, 5)"
   ]
  },
  {
   "cell_type": "code",
   "execution_count": 8,
   "id": "1b753f6d-c4f0-4ca5-b361-3093b36bf47f",
   "metadata": {},
   "outputs": [
    {
     "name": "stdout",
     "output_type": "stream",
     "text": [
      "seq: TATTCGGCGAGACTT\n",
      "--------------------\n",
      "  0: TATTC\n",
      "  1:  ATTCG\n",
      "  2:   TTCGG\n",
      "  3:    TCGGC\n",
      "  4:     CGGCG\n",
      "  5:      GGCGA\n",
      "  6:       GCGAG\n",
      "  7:        CGAGA\n",
      "  8:         GAGAC\n",
      "  9:          AGACT\n",
      " 10:           GACTT\n"
     ]
    }
   ],
   "source": [
    "print_seq_with_kmers(meddna, 5)"
   ]
  },
  {
   "cell_type": "code",
   "execution_count": 9,
   "id": "2ba5e2c6-f95c-4f4b-8f13-4fd4a3f655e8",
   "metadata": {},
   "outputs": [
    {
     "name": "stdout",
     "output_type": "stream",
     "text": [
      "seq: ATATTCGGCGAGACTTGCACACGAGGCGTCGCAGATGCATCGGATCCCGA\n",
      "-------------------------------------------------------\n",
      "  0: ATATTCGGCGAGACTTGCACACGAGGCGTCG\n",
      "  1:  TATTCGGCGAGACTTGCACACGAGGCGTCGC\n",
      "  2:   ATTCGGCGAGACTTGCACACGAGGCGTCGCA\n",
      "  3:    TTCGGCGAGACTTGCACACGAGGCGTCGCAG\n",
      "  4:     TCGGCGAGACTTGCACACGAGGCGTCGCAGA\n",
      "  5:      CGGCGAGACTTGCACACGAGGCGTCGCAGAT\n",
      "  6:       GGCGAGACTTGCACACGAGGCGTCGCAGATG\n",
      "  7:        GCGAGACTTGCACACGAGGCGTCGCAGATGC\n",
      "  8:         CGAGACTTGCACACGAGGCGTCGCAGATGCA\n",
      "  9:          GAGACTTGCACACGAGGCGTCGCAGATGCAT\n",
      " 10:           AGACTTGCACACGAGGCGTCGCAGATGCATC\n",
      " 11:            GACTTGCACACGAGGCGTCGCAGATGCATCG\n",
      " 12:             ACTTGCACACGAGGCGTCGCAGATGCATCGG\n",
      " 13:              CTTGCACACGAGGCGTCGCAGATGCATCGGA\n",
      " 14:               TTGCACACGAGGCGTCGCAGATGCATCGGAT\n",
      " 15:                TGCACACGAGGCGTCGCAGATGCATCGGATC\n",
      " 16:                 GCACACGAGGCGTCGCAGATGCATCGGATCC\n",
      " 17:                  CACACGAGGCGTCGCAGATGCATCGGATCCC\n",
      " 18:                   ACACGAGGCGTCGCAGATGCATCGGATCCCG\n",
      " 19:                    CACGAGGCGTCGCAGATGCATCGGATCCCGA\n"
     ]
    }
   ],
   "source": [
    "print_seq_with_kmers(longdna, 31)"
   ]
  },
  {
   "cell_type": "markdown",
   "id": "d008fb58-4b7d-4537-b412-77d898ea0889",
   "metadata": {},
   "source": [
    "## Minimizers\n",
    "\n",
    "Minimizers are a special class of *k*-mer. Given a window of `w` consecutive *k*-mers, the minimizer is the \"smallest\" or \"lowest\" *k*-mer in the window. Fill in the function to yield each window, its position (0-based) in the sequence, and the offset of the minimizer within the window.\n",
    "\n",
    "> *Hint: you can use `get_sub_mers()` to generate both the windows and the k-mers within the windows.*"
   ]
  },
  {
   "cell_type": "code",
   "execution_count": 10,
   "id": "edf05172-bb7e-4525-b317-85111193914e",
   "metadata": {},
   "outputs": [],
   "source": [
    "def get_minimizers(sequence, k_size, window_size):\n",
    "    \"\"\"yield i, minimizer, offset\"\"\"\n",
    "    window_length = k_size + window_size - 1\n",
    "    num_windows = len(sequence) - window_length + 1\n",
    "    for i, window in get_sub_mers(sequence, window_length):\n",
    "        minimizer = window[:k_size]\n",
    "        offset = 0\n",
    "        for j, kmer in get_sub_mers(window, k_size):\n",
    "            if kmer < minimizer:\n",
    "                minimizer = kmer\n",
    "                offset = j\n",
    "        yield i, minimizer, offset"
   ]
  },
  {
   "cell_type": "markdown",
   "id": "050ff11d-1616-4a9b-afb2-f6677e47ead2",
   "metadata": {},
   "source": [
    "As before, execute the following cells to check your implementation. Make sure to note the number of distinct *k*-mers in the sequence versus the number of distinct minimizers. Recall that minimizers were originally designed to permit sequence matching in less space for very large data sets."
   ]
  },
  {
   "cell_type": "code",
   "execution_count": 11,
   "id": "0f0df04a-52e9-47cd-8345-428db65437ca",
   "metadata": {},
   "outputs": [
    {
     "name": "stdout",
     "output_type": "stream",
     "text": [
      "seq: TATTCGGCGAGACTT\n",
      "--------------------\n",
      "  0: TATTCG\n",
      "  1:  ATTCGG\n",
      "  2:   TTCGGC\n",
      "  3:    TCGGCG\n",
      "  4:     CGGCGA\n",
      "  5:      GGCGAG\n",
      "  6:       GCGAGA\n",
      "  7:        CGAGAC\n",
      "  8:         GAGACT\n",
      "  9:          AGACTT\n"
     ]
    }
   ],
   "source": [
    "print_seq_with_kmers(meddna, 6)"
   ]
  },
  {
   "cell_type": "code",
   "execution_count": 12,
   "id": "6b107f2e-49a4-4fe8-b91d-c2941537e909",
   "metadata": {},
   "outputs": [
    {
     "name": "stdout",
     "output_type": "stream",
     "text": [
      "seq: TATTCGGCGAGACTT\n",
      "--------------------\n",
      "  0: .ATT..\n",
      "  1:  ATT...\n",
      "  2:   ..CGG.\n",
      "  3:    .CGG..\n",
      "  4:     ...CGA\n",
      "  5:      ..CGA.\n",
      "  6:       ...AGA\n",
      "  7:        ..AGA.\n",
      "  8:         ...ACT\n",
      "  9:          ..ACT.\n"
     ]
    }
   ],
   "source": [
    "print_seq_with_minimizers(meddna, 3, 4)"
   ]
  },
  {
   "cell_type": "code",
   "execution_count": 13,
   "id": "33dfcd07-39f6-488b-87b8-cfd1ba37ff7e",
   "metadata": {},
   "outputs": [
    {
     "name": "stdout",
     "output_type": "stream",
     "text": [
      "seq: TATTCGGCGAGACTT\n",
      "--------------------\n",
      "  0: TATTCGGCGAG\n",
      "  1:  ATTCGGCGAGA\n",
      "  2:   TTCGGCGAGAC\n",
      "  3:    TCGGCGAGACT\n",
      "  4:     CGGCGAGACTT\n"
     ]
    }
   ],
   "source": [
    "print_seq_with_kmers(meddna, 11)"
   ]
  },
  {
   "cell_type": "code",
   "execution_count": 14,
   "id": "bcb34aaa-df85-4504-a343-0638c8c3f5ab",
   "metadata": {},
   "outputs": [
    {
     "name": "stdout",
     "output_type": "stream",
     "text": [
      "seq: TATTCGGCGAGACTT\n",
      "--------------------\n",
      "  0: .ATTCG.....\n",
      "  1:  ATTCG......\n",
      "  2:   .....CGAGA.\n",
      "  3:    ......AGACT\n",
      "  4:     .....AGACT.\n"
     ]
    }
   ],
   "source": [
    "print_seq_with_minimizers(meddna, 5, 7)"
   ]
  },
  {
   "cell_type": "code",
   "execution_count": 15,
   "id": "cc9dbc5e-391b-463b-a052-2d42e6616d15",
   "metadata": {},
   "outputs": [
    {
     "name": "stdout",
     "output_type": "stream",
     "text": [
      "seq: ATATTCGGCGAGACTTGCACACGAGGCGTCGCAGATGCATCGGATCCCGA\n",
      "-------------------------------------------------------\n",
      "  0: ............ACTTGCACACGAGGC\n",
      "  1:  ...........ACTTGCACACGAGGC.\n",
      "  2:   ..........ACTTGCACACGAGGC..\n",
      "  3:    .........ACTTGCACACGAGGC...\n",
      "  4:     ........ACTTGCACACGAGGC....\n",
      "  5:      .......ACTTGCACACGAGGC.....\n",
      "  6:       ............ACACGAGGCGTCGCA\n",
      "  7:        ...........ACACGAGGCGTCGCA.\n",
      "  8:         ..........ACACGAGGCGTCGCA..\n",
      "  9:          .........ACACGAGGCGTCGCA...\n",
      " 10:           ........ACACGAGGCGTCGCA....\n",
      " 11:            .......ACACGAGGCGTCGCA.....\n",
      " 12:             ......ACACGAGGCGTCGCA......\n",
      " 13:              .....ACACGAGGCGTCGCA.......\n",
      " 14:               ....ACACGAGGCGTCGCA........\n",
      " 15:                ...ACACGAGGCGTCGCA.........\n",
      " 16:                 ..ACACGAGGCGTCGCA..........\n",
      " 17:                  .ACACGAGGCGTCGCA...........\n",
      " 18:                   ACACGAGGCGTCGCA............\n",
      " 19:                    .ACGAGGCGTCGCAGA...........\n",
      " 20:                     ACGAGGCGTCGCAGA............\n",
      " 21:                      ...........AGATGCATCGGATCC.\n",
      " 22:                       ..........AGATGCATCGGATCC..\n",
      " 23:                        .........AGATGCATCGGATCC...\n"
     ]
    }
   ],
   "source": [
    "print_seq_with_minimizers(longdna, 15, 13)"
   ]
  },
  {
   "cell_type": "markdown",
   "id": "9a066733-92d1-463b-a97e-86e12ad19994",
   "metadata": {},
   "source": [
    "## Spaced seeds\n",
    "\n",
    "Spaced seeds are *k*-mers with ignored \"joker\" positions in fixed locations in the *k*-mer. The *weight* of the seed is the number of matching positions in the pattern, and the span is the total number of matching and ignored positions.\n",
    "\n",
    "Fill in the following function to yield each seed sequence, including the full span of matching and ignored positions. For matching positions, show the sequence character; for joker positions, show a `.` character. As with previous functions, also yield the position (0-based) of the seed in the sequence.\n",
    "\n",
    "Note that when using spaced seeds for sequence matching, substitutions (such as mutations or sequencing errors) in any of the joker (`.`) positions will not cause the seed match to fail; that is, the seed is robust so such variations."
   ]
  },
  {
   "cell_type": "code",
   "execution_count": 16,
   "id": "04f41f5f-2269-48bc-92c6-7420cdaa8bf0",
   "metadata": {},
   "outputs": [],
   "source": [
    "def get_spaced_seed(sequence, mask):\n",
    "    \"\"\"yield i, seed\"\"\"\n",
    "    span = len(mask)\n",
    "    for i, spanseq in get_sub_mers(sequence, span):\n",
    "        seed = list()\n",
    "        for maskchar, seqchar in zip(mask, spanseq):\n",
    "            if maskchar == \"-\":\n",
    "                seed.append(\".\")\n",
    "            else:\n",
    "                seed.append(seqchar)\n",
    "        yield i, \"\".join(seed)"
   ]
  },
  {
   "cell_type": "code",
   "execution_count": 17,
   "id": "20247d1e-33e3-415a-8e9f-c910cd5952ea",
   "metadata": {},
   "outputs": [
    {
     "name": "stdout",
     "output_type": "stream",
     "text": [
      "seq: GATTACA\n",
      "------------\n",
      "  0: GA.T\n",
      "  1:  AT.A\n",
      "  2:   TT.C\n",
      "  3:    TA.A\n"
     ]
    }
   ],
   "source": [
    "print_seq_with_spaced_seed(shortdna, \"##-#\")"
   ]
  },
  {
   "cell_type": "code",
   "execution_count": 18,
   "id": "86ea9aa3-2539-4710-89d4-1bd14dfe9737",
   "metadata": {},
   "outputs": [
    {
     "name": "stdout",
     "output_type": "stream",
     "text": [
      "seq: TATTCGGCGAGACTT\n",
      "--------------------\n",
      "  0: TAT.CGG.G\n",
      "  1:  ATT.GGC.A\n",
      "  2:   TTC.GCG.G\n",
      "  3:    TCG.CGA.A\n",
      "  4:     CGG.GAG.C\n",
      "  5:      GGC.AGA.T\n",
      "  6:       GCG.GAC.T\n"
     ]
    }
   ],
   "source": [
    "print_seq_with_spaced_seed(meddna, \"###-###-#\")"
   ]
  },
  {
   "cell_type": "code",
   "execution_count": 19,
   "id": "e57077fa-d648-4c7b-a7be-71dab33805d5",
   "metadata": {},
   "outputs": [
    {
     "name": "stdout",
     "output_type": "stream",
     "text": [
      "seq: ATATTCGGCGAGACTTGCACACGAGGCGTCGCAGATGCATCGGATCCCGA\n",
      "-------------------------------------------------------\n",
      "  0: ATATTC.GCG.G.CTTGCAC...AG\n",
      "  1:  TATTCG.CGA.A.TTGCACA...GG\n",
      "  2:   ATTCGG.GAG.C.TGCACAC...GC\n",
      "  3:    TTCGGC.AGA.T.GCACACG...CG\n",
      "  4:     TCGGCG.GAC.T.CACACGA...GT\n",
      "  5:      CGGCGA.ACT.G.ACACGAG...TC\n",
      "  6:       GGCGAG.CTT.C.CACGAGG...CG\n",
      "  7:        GCGAGA.TTG.A.ACGAGGC...GC\n",
      "  8:         CGAGAC.TGC.C.CGAGGCG...CA\n",
      "  9:          GAGACT.GCA.A.GAGGCGT...AG\n",
      " 10:           AGACTT.CAC.C.AGGCGTC...GA\n",
      " 11:            GACTTG.ACA.G.GGCGTCG...AT\n",
      " 12:             ACTTGC.CAC.A.GCGTCGC...TG\n",
      " 13:              CTTGCA.ACG.G.CGTCGCA...GC\n",
      " 14:               TTGCAC.CGA.G.GTCGCAG...CA\n",
      " 15:                TGCACA.GAG.C.TCGCAGA...AT\n",
      " 16:                 GCACAC.AGG.G.CGCAGAT...TC\n",
      " 17:                  CACACG.GGC.T.GCAGATG...CG\n",
      " 18:                   ACACGA.GCG.C.CAGATGC...GG\n",
      " 19:                    CACGAG.CGT.G.AGATGCA...GA\n",
      " 20:                     ACGAGG.GTC.C.GATGCAT...AT\n",
      " 21:                      CGAGGC.TCG.A.ATGCATC...TC\n",
      " 22:                       GAGGCG.CGC.G.TGCATCG...CC\n",
      " 23:                        AGGCGT.GCA.A.GCATCGG...CC\n",
      " 24:                         GGCGTC.CAG.T.CATCGGA...CG\n",
      " 25:                          GCGTCG.AGA.G.ATCGGAT...GA\n"
     ]
    }
   ],
   "source": [
    "print_seq_with_spaced_seed(longdna, \"######-###-#-#######---##\")"
   ]
  },
  {
   "cell_type": "markdown",
   "id": "cbf72394-b3b7-4948-839e-d40f9d359c20",
   "metadata": {},
   "source": [
    "## Strobemers (minstrobes)\n",
    "\n",
    "Strobemers are coupled *k*-mers composed of a fixed *k*-mer anchor and one or more additional \"randomly\" distributed \"strobe\" *k*-mers. Minstrobes use the minimizer strategy to introduce variation into the spacing between the *k*-mers in the strobemer. Randstrobes (not shown here) use a random hash function for even more variation. In both cases, strobemers are intended to take advantage of the matching/non-matching positions benefits first introduced with spaced seeds, but without a fixed matching/non-matching structure. The authors of the strobemer approach have demonstrated modest improvements in sequence alignment accuracy and performance using strobemers as seeds.\n",
    "\n",
    "For now, we will focus on the simplest case: minstrobes with a single anchor *k*-mer followed by a single minimizer. For this we need to specify the length of the *k*-mer and the length of the subsequent window from which the minimizer will be derived.\n",
    "\n",
    "Fill in the following function so that for each strobemer, it yields the position, anchor *k*-mer sequence, the minstrobe, and the offset of the minstrobe within its window.\n",
    "\n",
    "Note that, as with spaced seeds, strobemers are robust to variation present in the regions marked by `.` characters. Note that the spacing between the anchor and strobe isn't fixed. Note the step-wise behavior of the strobe that mimics the behavior we saw previously with minimizers. The use of randstrobes (not shown here) is intended to introduce additional variation in the spacing of the strobes."
   ]
  },
  {
   "cell_type": "code",
   "execution_count": 20,
   "id": "0da10718-64bf-4ac3-8117-5ca3ccf5bfae",
   "metadata": {},
   "outputs": [],
   "source": [
    "def get_min_strobes(sequence, k_size, window_size):\n",
    "    \"\"\"yield i, anchor, j, minstrobe\"\"\"\n",
    "    span = k_size + window_size\n",
    "    for i, spanseq in get_sub_mers(sequence, span):\n",
    "        anchor = spanseq[:k_size]\n",
    "        window = spanseq[k_size:]\n",
    "        minstrobe = window[:k_size]\n",
    "        offset = 0\n",
    "        for j, strobe in get_sub_mers(window, k_size):\n",
    "            if strobe < minstrobe:\n",
    "                minstrobe = strobe\n",
    "                offset = j\n",
    "        yield i, anchor, offset, minstrobe"
   ]
  },
  {
   "cell_type": "code",
   "execution_count": 21,
   "id": "e8219c66-32ab-4edf-9b75-6aaccc4977e2",
   "metadata": {},
   "outputs": [
    {
     "name": "stdout",
     "output_type": "stream",
     "text": [
      "seq: TATTCGGCGAGACTT\n",
      "--------------------\n",
      "  0: TAT.CGG..\n",
      "  1:  ATT...CGA\n",
      "  2:   TTC..CGA.\n",
      "  3:    TCG...AGA\n",
      "  4:     CGG..AGA.\n",
      "  5:      GGC...ACT\n",
      "  6:       GCG..ACT.\n"
     ]
    }
   ],
   "source": [
    "print_seq_with_min_strobes(meddna, 3, 6)"
   ]
  },
  {
   "cell_type": "code",
   "execution_count": 22,
   "id": "2da778ed-990b-4603-841c-79b9e0514e1c",
   "metadata": {},
   "outputs": [
    {
     "name": "stdout",
     "output_type": "stream",
     "text": [
      "seq: ATATTCGGCGAGACTTGCACACGAGGCGTCGCAGATGCATCGGATCCCGA\n",
      "-------------------------------------------------------\n",
      "  0: ATATTCGGC...ACTTGCACA...\n",
      "  1:  TATTCGGCG..ACTTGCACA....\n",
      "  2:   ATTCGGCGA.ACTTGCACA.....\n",
      "  3:    TTCGGCGAG......ACACGAGGC\n",
      "  4:     TCGGCGAGA.....ACACGAGGC.\n",
      "  5:      CGGCGAGAC....ACACGAGGC..\n",
      "  6:       GGCGAGACT...ACACGAGGC...\n",
      "  7:        GCGAGACTT..ACACGAGGC....\n",
      "  8:         CGAGACTTG.ACACGAGGC.....\n",
      "  9:          GAGACTTGCACACGAGGC......\n",
      " 10:           AGACTTGCA.ACGAGGCGT.....\n",
      " 11:            GACTTGCACACGAGGCGT......\n",
      " 12:             ACTTGCACA..AGGCGTCGC....\n",
      " 13:              CTTGCACAC.AGGCGTCGC.....\n",
      " 14:               TTGCACACGAGGCGTCGC......\n",
      " 15:                TGCACACGA.....CGCAGATGC.\n",
      " 16:                 GCACACGAG......CAGATGCAT\n",
      " 17:                  CACACGAGG......AGATGCATC\n",
      " 18:                   ACACGAGGC.....AGATGCATC.\n",
      " 19:                    CACGAGGCG....AGATGCATC..\n",
      " 20:                     ACGAGGCGT...AGATGCATC...\n",
      " 21:                      CGAGGCGTC..AGATGCATC....\n",
      " 22:                       GAGGCGTCG.AGATGCATC.....\n",
      " 23:                        AGGCGTCGCAGATGCATC......\n",
      " 24:                         GGCGTCGCA.....ATCGGATCC.\n",
      " 25:                          GCGTCGCAG....ATCGGATCC..\n",
      " 26:                           CGTCGCAGA...ATCGGATCC...\n"
     ]
    }
   ],
   "source": [
    "print_seq_with_min_strobes(longdna, 9, 15)"
   ]
  }
 ],
 "metadata": {
  "kernelspec": {
   "display_name": "Python 3 (ipykernel)",
   "language": "python",
   "name": "python3"
  },
  "language_info": {
   "codemirror_mode": {
    "name": "ipython",
    "version": 3
   },
   "file_extension": ".py",
   "mimetype": "text/x-python",
   "name": "python",
   "nbconvert_exporter": "python",
   "pygments_lexer": "ipython3",
   "version": "3.10.6"
  }
 },
 "nbformat": 4,
 "nbformat_minor": 5
}
